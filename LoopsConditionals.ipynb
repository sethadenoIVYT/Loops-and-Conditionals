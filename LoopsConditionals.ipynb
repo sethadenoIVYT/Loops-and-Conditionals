{
 "cells": [
  {
   "cell_type": "code",
   "execution_count": 1,
   "id": "ae353f89-98aa-418a-a81f-5f9fd413bb12",
   "metadata": {},
   "outputs": [
    {
     "name": "stdout",
     "output_type": "stream",
     "text": [
      "too low\n"
     ]
    }
   ],
   "source": [
    "secret = 7\n",
    "guess = 3\n",
    "\n",
    "if guess < secret:\n",
    "    print(\"too low\")\n",
    "elif guess > secret:\n",
    "    print(\"too high\")\n",
    "else:\n",
    "    print(\"just right\")\n",
    "    "
   ]
  },
  {
   "cell_type": "code",
   "execution_count": 3,
   "id": "c84a67cd-b64d-41f4-bcb8-1008385e1593",
   "metadata": {},
   "outputs": [
    {
     "name": "stdout",
     "output_type": "stream",
     "text": [
      "pea\n"
     ]
    }
   ],
   "source": [
    "small = True\n",
    "green = True\n",
    "\n",
    "if small == True and green == True:\n",
    "    print(\"pea\")\n",
    "elif small == True and green == False:\n",
    "    print(\"cherry\")\n",
    "elif small == False and green == True:\n",
    "    print(\"watermelon\")\n",
    "elif small == False and green == False:\n",
    "    print(\"pumpkin\")"
   ]
  },
  {
   "cell_type": "code",
   "execution_count": 5,
   "id": "673fb42c-26f6-42c2-b4d6-9c6ab738a795",
   "metadata": {},
   "outputs": [
    {
     "name": "stdout",
     "output_type": "stream",
     "text": [
      "0\n",
      "1\n",
      "2\n",
      "3\n"
     ]
    }
   ],
   "source": [
    "list = [3, 2, 1, 0]\n",
    "\n",
    "for n in list:\n",
    "    print(list[n])"
   ]
  },
  {
   "cell_type": "code",
   "execution_count": 12,
   "id": "824fb28a-33af-4df1-a056-f7086b8487be",
   "metadata": {},
   "outputs": [
    {
     "name": "stdout",
     "output_type": "stream",
     "text": [
      "too low\n",
      "too low\n",
      "too low\n",
      "too low\n",
      "too low\n",
      "too low\n",
      "found it!\n"
     ]
    }
   ],
   "source": [
    "guess_me = 7\n",
    "number = 1\n",
    "\n",
    "while number <= guess_me:\n",
    "    if number < guess_me:\n",
    "        print(\"too low\")\n",
    "    elif number == guess_me:\n",
    "        print(\"found it!\")\n",
    "        break\n",
    "    elif number > guess_me:\n",
    "        print(\"oops\")\n",
    "        break\n",
    "\n",
    "    number = number + 1\n",
    "              "
   ]
  },
  {
   "cell_type": "code",
   "execution_count": 14,
   "id": "89ba9934-49d0-4217-a00c-5cc7b13ecb0e",
   "metadata": {},
   "outputs": [
    {
     "name": "stdout",
     "output_type": "stream",
     "text": [
      "too low\n",
      "too low\n",
      "too low\n",
      "too low\n",
      "too low\n",
      "found it!\n"
     ]
    }
   ],
   "source": [
    "guess_me = 5\n",
    "\n",
    "for number in range(10):\n",
    "    if number < guess_me:\n",
    "        print(\"too low\")\n",
    "    elif number == guess_me:\n",
    "        print(\"found it!\")\n",
    "        break\n",
    "    elif number > guess_me:\n",
    "        print(\"oops\")\n",
    "        break"
   ]
  }
 ],
 "metadata": {
  "kernelspec": {
   "display_name": "Python 3 (ipykernel)",
   "language": "python",
   "name": "python3"
  },
  "language_info": {
   "codemirror_mode": {
    "name": "ipython",
    "version": 3
   },
   "file_extension": ".py",
   "mimetype": "text/x-python",
   "name": "python",
   "nbconvert_exporter": "python",
   "pygments_lexer": "ipython3",
   "version": "3.12.4"
  }
 },
 "nbformat": 4,
 "nbformat_minor": 5
}
